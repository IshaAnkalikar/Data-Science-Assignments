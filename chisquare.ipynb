{
  "nbformat": 4,
  "nbformat_minor": 0,
  "metadata": {
    "colab": {
      "provenance": []
    },
    "kernelspec": {
      "name": "python3",
      "display_name": "Python 3"
    },
    "language_info": {
      "name": "python"
    }
  },
  "cells": [
    {
      "cell_type": "markdown",
      "source": [
        "Association between Device Type and Customer Satisfaction\n",
        "Background:\n",
        "Mizzare Corporation has collected data on customer satisfaction levels for two types of smart home devices: Smart Thermostats and Smart Lights. They want to determine if there's a significant association between the type of device purchased and the customer's satisfaction level.\n",
        "Data Provided:\n",
        "The data is summarized in a contingency table showing the counts of customers in each satisfaction level for both types of devices:\n",
        "Satisfaction\tSmart Thermostat\tSmart Light\tTotal\n",
        "Very Satisfied\t50\t70\t120\n",
        "Satisfied\t80\t100\t180\n",
        "Neutral\t60\t90\t150\n",
        "Unsatisfied\t30\t50\t80\n",
        "Very Unsatisfied\t20\t50\t70\n",
        "Total\t240\t360\t600\n",
        "Objective:\n",
        "To use the Chi-Square test for independence to determine if there's a significant association between the type of smart home device purchased (Smart Thermostats vs. Smart Lights) and the customer satisfaction level.\n",
        "Assignment Tasks:\n",
        "1. State the Hypotheses:\n",
        "2. Compute the Chi-Square Statistic:\n",
        "3. Determine the Critical Value:\n",
        "Using the significance level (alpha) of 0.05 and the degrees of freedom (which is the number of categories minus 1)\n",
        "4. Make a Decision:\n",
        "Compare the Chi-Square statistic with the critical value to decide whether to reject the null hypothesis.\n",
        "Submission Guidelines:\n",
        "Provide a detailed report of your analysis, including each step outlined in the assignment tasks in a python file.\n",
        "Include all calculations, the Chi-Square statistic, the critical value, and your conclusion."
      ],
      "metadata": {
        "id": "uSrft6BpwMs4"
      }
    },
    {
      "cell_type": "markdown",
      "source": [
        "State the Hypotheses: This involves defining a null hypothesis (e.g., there is no relationship between device type and satisfaction) and an alternative hypothesis .(e.g., there is a relationship)."
      ],
      "metadata": {
        "id": "CIWE8Wlewg68"
      }
    },
    {
      "cell_type": "code",
      "source": [
        "import numpy as np\n",
        "import pandas as pd\n",
        "from scipy.stats import chi2_contingency\n"
      ],
      "metadata": {
        "id": "1fFGKHvUvaUT"
      },
      "execution_count": 6,
      "outputs": []
    },
    {
      "cell_type": "markdown",
      "source": [
        "Next, you need to create the contingency table as a Pandas DataFrame:\n",
        "\n"
      ],
      "metadata": {
        "id": "7Ekstxj1vlSS"
      }
    },
    {
      "cell_type": "code",
      "source": [
        "data = {'Smart Thermostat': [50, 80, 60, 30, 20],\n",
        "        'Smart Light': [70, 100, 90, 50, 50]}\n",
        "index = ['Very Satisfied', 'Satisfied', 'Neutral', 'Unsatisfied', 'Very Unsatisfied']\n",
        "df = pd.DataFrame(data, index=index)\n",
        "print(df)"
      ],
      "metadata": {
        "colab": {
          "base_uri": "https://localhost:8080/"
        },
        "id": "AEEjyHi0vb0q",
        "outputId": "48a3feee-8214-4481-d3f5-67dfe4cf5c75"
      },
      "execution_count": 7,
      "outputs": [
        {
          "output_type": "stream",
          "name": "stdout",
          "text": [
            "                  Smart Thermostat  Smart Light\n",
            "Very Satisfied                  50           70\n",
            "Satisfied                       80          100\n",
            "Neutral                         60           90\n",
            "Unsatisfied                     30           50\n",
            "Very Unsatisfied                20           50\n"
          ]
        }
      ]
    },
    {
      "cell_type": "markdown",
      "source": [
        "This creates a DataFrame df that holds the contingency table data. The index variable provides labels for the satisfaction levels.\n",
        "\n",
        "Now, perform the Chi-Square test:\n",
        "\n"
      ],
      "metadata": {
        "id": "WvJ8XdXkv0Zc"
      }
    },
    {
      "cell_type": "code",
      "source": [
        "chi2_stat, p_val, dof, expected = chi2_contingency(df)\n",
        "\n",
        "print(f\"Chi-Square Statistic: {chi2_stat}\")\n",
        "print(f\"P-value: {p_val}\")\n",
        "print(f\"Degrees of Freedom: {dof}\")\n",
        "print(\"Expected Frequencies:\")\n",
        "print(expected)"
      ],
      "metadata": {
        "colab": {
          "base_uri": "https://localhost:8080/"
        },
        "id": "SPkeHieDv21h",
        "outputId": "d19255ef-cc7b-46ff-9f1e-c8f2dedde4c5"
      },
      "execution_count": 8,
      "outputs": [
        {
          "output_type": "stream",
          "name": "stdout",
          "text": [
            "Chi-Square Statistic: 5.638227513227513\n",
            "P-value: 0.22784371130697179\n",
            "Degrees of Freedom: 4\n",
            "Expected Frequencies:\n",
            "[[ 48.  72.]\n",
            " [ 72. 108.]\n",
            " [ 60.  90.]\n",
            " [ 32.  48.]\n",
            " [ 28.  42.]]\n"
          ]
        }
      ]
    },
    {
      "cell_type": "markdown",
      "source": [
        "Finally, interpret the results:\n",
        "\n"
      ],
      "metadata": {
        "id": "5KFB5yc5wDz2"
      }
    },
    {
      "cell_type": "code",
      "source": [
        "alpha = 0.05  # Significance level\n",
        "\n",
        "if p_val < alpha:\n",
        "    print(\"Reject the null hypothesis.\")\n",
        "    print(\"There is a significant association between device type and customer satisfaction.\")\n",
        "else:\n",
        "    print(\"Fail to reject the null hypothesis.\")\n",
        "    print(\"There is no significant association between device type and customer satisfaction.\")"
      ],
      "metadata": {
        "colab": {
          "base_uri": "https://localhost:8080/"
        },
        "id": "U_xpaeTpvpx0",
        "outputId": "ceebefeb-fd22-4afc-8e4f-61e8aa1854c1"
      },
      "execution_count": 9,
      "outputs": [
        {
          "output_type": "stream",
          "name": "stdout",
          "text": [
            "Fail to reject the null hypothesis.\n",
            "There is no significant association between device type and customer satisfaction.\n"
          ]
        }
      ]
    },
    {
      "cell_type": "code",
      "source": [],
      "metadata": {
        "id": "WpsAayhxwHuS"
      },
      "execution_count": null,
      "outputs": []
    }
  ]
}