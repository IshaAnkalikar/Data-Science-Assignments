{
 "cells": [
  {
   "cell_type": "markdown",
   "id": "6b128060-737e-4bc0-9511-a2d8bf31cb8d",
   "metadata": {},
   "source": [
    "### Question"
   ]
  },
  {
   "cell_type": "code",
   "execution_count": 26,
   "id": "611f0191-c248-47c3-9ab0-74288e5a636e",
   "metadata": {},
   "outputs": [],
   "source": [
    "## scenerio:\n",
    "## A manufacturer of print-heads for personal computers is interested in estimating the mean durability of their print-heads in terms of the number of characters printed before failure. To assess this, the manufacturer conducts a study on a small sample of print-heads due to the destructive nature of the testing process"
   ]
  },
  {
   "cell_type": "code",
   "execution_count": 28,
   "id": "7bc8ab84-84ad-4472-894c-9526ebb5745f",
   "metadata": {},
   "outputs": [
    {
     "data": {
      "text/plain": [
       "(1.13,\n",
       " 1.55,\n",
       " 1.43,\n",
       " 0.92,\n",
       " 1.25,\n",
       " 1.36,\n",
       " 1.32,\n",
       " 0.85,\n",
       " 1.07,\n",
       " 1.48,\n",
       " 1.2,\n",
       " 1.33,\n",
       " 1.18,\n",
       " 1.22,\n",
       " 1.29)"
      ]
     },
     "execution_count": 28,
     "metadata": {},
     "output_type": "execute_result"
    }
   ],
   "source": [
    "## Data:\n",
    "## A total of 15 print-heads were randomly selected and tested until failure. The durability of each print-head (in millions of characters) was recorded as follows:\n",
    "1.13, 1.55, 1.43, 0.92, 1.25, 1.36, 1.32, 0.85, 1.07, 1.48, 1.20, 1.33, 1.18, 1.22, 1.29\n"
   ]
  },
  {
   "cell_type": "markdown",
   "id": "ac32f8d1-1b4c-4c05-8532-ebb4c3d91051",
   "metadata": {},
   "source": [
    "## Solution"
   ]
  },
  {
   "cell_type": "code",
   "execution_count": 31,
   "id": "e8db8d2e-390e-47e2-b9ab-b7c0ca3d933d",
   "metadata": {},
   "outputs": [],
   "source": [
    "## importing packages"
   ]
  },
  {
   "cell_type": "code",
   "execution_count": 33,
   "id": "1a531d18-0c6b-4747-b510-5056c0c4deeb",
   "metadata": {},
   "outputs": [],
   "source": [
    "import numpy as np\n",
    "import scipy.stats as stats"
   ]
  },
  {
   "cell_type": "code",
   "execution_count": 35,
   "id": "7def02b4-d04d-44c7-abc4-e240a975cdde",
   "metadata": {},
   "outputs": [],
   "source": [
    "# Sample data \n",
    "data = [1.13, 1.55, 1.43, 0.92, 1.25, 1.36, 1.32, 0.85, 1.07, 1.48, 1.20, 1.33, 1.18, 1.22, 1.29]"
   ]
  },
  {
   "cell_type": "code",
   "execution_count": 37,
   "id": "f4129747-840d-4b5c-85c1-c3ca2f30035d",
   "metadata": {},
   "outputs": [],
   "source": [
    "# Sample size\n",
    "n = len(data)"
   ]
  },
  {
   "cell_type": "code",
   "execution_count": 39,
   "id": "e5c55425-1c63-4e49-9f86-9780100c6647",
   "metadata": {},
   "outputs": [],
   "source": [
    "# Sample mean and standard deviation\n",
    "sample_mean = np.mean(data)\n",
    "sample_std = np.std(data, ddof=1)  \n",
    "# Use ddof=1 for sample standard deviation"
   ]
  },
  {
   "cell_type": "code",
   "execution_count": 41,
   "id": "68f82b3d-110a-4a05-b226-c7c36bccfaae",
   "metadata": {},
   "outputs": [],
   "source": [
    "# Confidence level and degrees of freedom\n",
    "confidence_level = 0.99\n",
    "alpha = 1 - confidence_level\n",
    "df = n - 1"
   ]
  },
  {
   "cell_type": "code",
   "execution_count": 43,
   "id": "b4d4d58d-36ca-406b-8bfe-9c6985295fb2",
   "metadata": {},
   "outputs": [],
   "source": [
    "# t critical value\n",
    "t_critical = stats.t.ppf(1 - alpha/2, df)"
   ]
  },
  {
   "cell_type": "code",
   "execution_count": 45,
   "id": "d3a40cf7-3a92-4884-9cea-48e7b9f953bb",
   "metadata": {},
   "outputs": [],
   "source": [
    "# Margin of error\n",
    "margin_of_error = t_critical * (sample_std / np.sqrt(n))"
   ]
  },
  {
   "cell_type": "code",
   "execution_count": 47,
   "id": "62e9f409-683e-43d9-b3ed-ad497620c807",
   "metadata": {},
   "outputs": [
    {
     "name": "stdout",
     "output_type": "stream",
     "text": [
      "99% Confidence Interval for the Mean Durability: (1.0902, 1.3871) million characters\n"
     ]
    }
   ],
   "source": [
    "# Confidence interval\n",
    "ci_lower = sample_mean - margin_of_error\n",
    "ci_upper = sample_mean + margin_of_error\n",
    "\n",
    "print(f\"99% Confidence Interval for the Mean Durability: ({ci_lower:.4f}, {ci_upper:.4f}) million characters\")\n"
   ]
  },
  {
   "cell_type": "markdown",
   "id": "9ce4e192-e320-4fb6-97dd-ed1fabc84bfb",
   "metadata": {},
   "source": [
    "## Question"
   ]
  },
  {
   "cell_type": "code",
   "execution_count": 54,
   "id": "bcd448c1-f9c2-42e8-a542-631209f906e8",
   "metadata": {},
   "outputs": [],
   "source": [
    "##scenario:\n",
    "## Assuming the sample is representative of the population, construct a 99% confidence interval for the mean number of characters printed before the print-head fails using the sample standard deviation. Explain the steps you take and the rationale behind using the t-distribution for this task.\n",
    "##b. Build 99% Confidence Interval Using Known Population Standard Deviation\n",
    "##If it were known that the population standard deviation is 0.2 million characters, construct a 99% confidence interval for the mean number of characters printed before failure.\n"
   ]
  },
  {
   "cell_type": "markdown",
   "id": "ca9da930-b8c1-4c23-a215-9c3a575983b2",
   "metadata": {},
   "source": [
    "## solution"
   ]
  },
  {
   "cell_type": "code",
   "execution_count": 57,
   "id": "c64254f7-fda7-407d-aee6-ece5b31a73f0",
   "metadata": {},
   "outputs": [],
   "source": [
    "## importing packages\n",
    "import scipy.stats as stats\n",
    "import numpy as np\n"
   ]
  },
  {
   "cell_type": "code",
   "execution_count": 59,
   "id": "8f657310-57dc-48c3-9304-c1dfaf9b5e69",
   "metadata": {},
   "outputs": [],
   "source": [
    "# Given sample data\n",
    "sample_mean = 9.5\n",
    "sample_std = 0.3\n",
    "population_std = 0.2\n",
    "n = 25\n",
    "confidence = 0.99"
   ]
  },
  {
   "cell_type": "code",
   "execution_count": 61,
   "id": "c974bb92-d447-4bfd-af07-f11907e65ec1",
   "metadata": {},
   "outputs": [],
   "source": [
    "# Part 1: Using sample standard deviation (t-distribution)\n",
    "df = n - 1\n",
    "t_crit = stats.t.ppf((1 + confidence) / 2, df)\n",
    "margin_error_t = t_crit * (sample_std / np.sqrt(n))\n",
    "ci_t = (sample_mean - margin_error_t, sample_mean + margin_error_t)"
   ]
  },
  {
   "cell_type": "code",
   "execution_count": 63,
   "id": "188b9aac-69ff-457b-b63b-3ee3b87f563b",
   "metadata": {},
   "outputs": [
    {
     "data": {
      "text/plain": [
       "((9.332183629713631, 9.667816370286369),\n",
       " (9.396966827858044, 9.603033172141956))"
      ]
     },
     "execution_count": 63,
     "metadata": {},
     "output_type": "execute_result"
    }
   ],
   "source": [
    "# Part b: Using population standard deviation (z-distribution)\n",
    "z_crit = stats.norm.ppf((1 + confidence) / 2)\n",
    "margin_error_z = z_crit * (population_std / np.sqrt(n))\n",
    "ci_z = (sample_mean - margin_error_z, sample_mean + margin_error_z)\n",
    "\n",
    "# Output both intervals\n",
    "ci_t, ci_z\n"
   ]
  },
  {
   "cell_type": "code",
   "execution_count": null,
   "id": "98b3bf1b-fb31-4e1b-af24-ff9a6c4cbff9",
   "metadata": {},
   "outputs": [],
   "source": []
  }
 ],
 "metadata": {
  "kernelspec": {
   "display_name": "Python [conda env:base] *",
   "language": "python",
   "name": "conda-base-py"
  },
  "language_info": {
   "codemirror_mode": {
    "name": "ipython",
    "version": 3
   },
   "file_extension": ".py",
   "mimetype": "text/x-python",
   "name": "python",
   "nbconvert_exporter": "python",
   "pygments_lexer": "ipython3",
   "version": "3.12.7"
  }
 },
 "nbformat": 4,
 "nbformat_minor": 5
}
