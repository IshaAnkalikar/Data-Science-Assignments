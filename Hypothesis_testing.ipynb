{
  "nbformat": 4,
  "nbformat_minor": 0,
  "metadata": {
    "colab": {
      "provenance": []
    },
    "kernelspec": {
      "name": "python3",
      "display_name": "Python 3"
    },
    "language_info": {
      "name": "python"
    }
  },
  "cells": [
    {
      "cell_type": "markdown",
      "source": [],
      "metadata": {
        "id": "X0DPtULvrmAo"
      }
    },
    {
      "cell_type": "markdown",
      "source": [
        "Scenario"
      ],
      "metadata": {
        "id": "Evrh7ykVrwE9"
      }
    },
    {
      "cell_type": "markdown",
      "source": [
        "Bombay hospitality Ltd. operates a franchise model for producing exotic Norwegian dinners throughout New England. The operating cost for a franchise in a week (W) is given by the equation W = $1,000 + $5X, where X represents the number of units produced in a week. Recent feedback from restaurant owners suggests that this cost model may no longer be accurate, as their observed weekly operating costs are higher.\n",
        "Objective:\n",
        "To investigate the restaurant owners' claim about the increase in weekly operating costs using hypothesis testing.\n",
        "Data Provided:\n",
        "The theoretical weekly operating cost model: W = $1,000 + $5X\n",
        "Sample of 25 restaurants with a mean weekly cost of Rs. 3,050\n",
        "Number of units produced in a week (X) follows a normal distribution with a mean (μ) of 600 units and a standard deviation (σ) of 25 units\n",
        "Assignment Tasks:\n",
        "1. State the Hypotheses statement:\n",
        "2. Calculate the Test Statistic:\n",
        "Use the following formula to calculate the test statistic (t):\n",
        "where:\n",
        "ˉxˉ = sample mean weekly cost (Rs. 3,050)\n",
        "μ = theoretical mean weekly cost according to the cost model (W = $1,000 + $5X for X = 600 units)\n",
        "σ = 5*25 units\n",
        "n = sample size (25 restaurants)\n",
        "3. Determine the Critical Value:\n",
        "Using the alpha level of 5% (α = 0.05), determine the critical value from the standard normal (Z) distribution table.\n",
        "4. Make a Decision:\n",
        "Compare the test statistic with the critical value to decide whether to reject the null hypothesis.\n",
        "5. Conclusion:\n",
        "Based on the decision in step 4, conclude whether there is strong evidence to support the restaurant owners' claim that the weekly operating costs are higher than the model suggests.\n",
        "\n",
        "Submission Guidelines:\n",
        "Prepare python file detailing each step of your hypothesis testing process.\n",
        "Include calculations for the test statistic and the critical value.\n",
        "Provide a clear conclusion based on your analysis."
      ],
      "metadata": {
        "id": "962LAlsirntT"
      }
    },
    {
      "cell_type": "markdown",
      "source": [
        "Issue"
      ],
      "metadata": {
        "id": "IqAMRRMcr93Q"
      }
    },
    {
      "cell_type": "markdown",
      "source": [
        "Restaurant owners are reporting that their actual costs are higher than what this formula predicts."
      ],
      "metadata": {
        "id": "MxMC-1a6sA3t"
      }
    },
    {
      "cell_type": "markdown",
      "source": [
        "H0:The current cost model is accurate."
      ],
      "metadata": {
        "id": "JVIcTj2nsbek"
      }
    },
    {
      "cell_type": "markdown",
      "source": [
        "Ha:The current cost model underestimates the weekly cost.\n"
      ],
      "metadata": {
        "id": "3xMk76qWssC-"
      }
    },
    {
      "cell_type": "code",
      "source": [
        "# Import necessary libraries\n",
        "import math\n",
        "import scipy.stats as stats"
      ],
      "metadata": {
        "id": "cyMFM05GtToH"
      },
      "execution_count": 3,
      "outputs": []
    },
    {
      "cell_type": "code",
      "source": [
        "# 1. State the Hypotheses\n",
        "# Null hypothesis (H0): The current cost model is accurate.\n",
        "# Alternative hypothesis (H1): The current cost model underestimates the weekly cost.\n"
      ],
      "metadata": {
        "id": "MZDJxJXDtVB4"
      },
      "execution_count": 4,
      "outputs": []
    },
    {
      "cell_type": "code",
      "source": [
        "# 2. Calculate the Test Statistic\n",
        "# Define variables\n",
        "sample_mean = 3050  # Sample mean weekly cost\n",
        "X = 600  # Number of units produced per week\n",
        "theoretical_mean = 1000 + 5 * X  # Theoretical mean weekly cost\n",
        "sigma = 5 * 25  # Standard deviation of weekly cost\n",
        "n = 25  # Sample size"
      ],
      "metadata": {
        "id": "3GvPyV0jtcob"
      },
      "execution_count": 5,
      "outputs": []
    },
    {
      "cell_type": "code",
      "source": [
        "# Calculate the test statistic (t)\n",
        "t = (sample_mean - theoretical_mean) / (sigma / math.sqrt(n))"
      ],
      "metadata": {
        "id": "FbaWK_0YtiZd"
      },
      "execution_count": 6,
      "outputs": []
    },
    {
      "cell_type": "code",
      "source": [
        "print(\"Test Statistic (t):\", t)"
      ],
      "metadata": {
        "colab": {
          "base_uri": "https://localhost:8080/"
        },
        "id": "3C3zTRFbtmbR",
        "outputId": "5af5959d-4e6b-4eb8-cbe5-5844ff5c2b4f"
      },
      "execution_count": 7,
      "outputs": [
        {
          "output_type": "stream",
          "name": "stdout",
          "text": [
            "Test Statistic (t): -38.0\n"
          ]
        }
      ]
    },
    {
      "cell_type": "code",
      "source": [
        "# 3. Determine the Critical Value\n",
        "alpha = 0.05  # Significance level\n",
        "critical_value = stats.norm.ppf(1 - alpha)  # Using standard normal distribution\n",
        "\n",
        "print(\"Critical Value:\", critical_value)\n"
      ],
      "metadata": {
        "colab": {
          "base_uri": "https://localhost:8080/"
        },
        "id": "0FmQcu7_tqmL",
        "outputId": "f3a94dcd-1b54-4679-f565-eb83cfb66e19"
      },
      "execution_count": 8,
      "outputs": [
        {
          "output_type": "stream",
          "name": "stdout",
          "text": [
            "Critical Value: 1.6448536269514722\n"
          ]
        }
      ]
    },
    {
      "cell_type": "code",
      "source": [
        "# 4. Make a Decision\n",
        "if t > critical_value:\n",
        "    decision = \"Reject the null hypothesis\"\n",
        "else:\n",
        "    decision = \"Fail to reject the null hypothesis\"\n",
        "\n",
        "print(\"Decision:\", decision)\n"
      ],
      "metadata": {
        "colab": {
          "base_uri": "https://localhost:8080/"
        },
        "id": "Juk_UfvWtwMu",
        "outputId": "14af6077-acfd-4a90-d24e-5e644c056af8"
      },
      "execution_count": 9,
      "outputs": [
        {
          "output_type": "stream",
          "name": "stdout",
          "text": [
            "Decision: Fail to reject the null hypothesis\n"
          ]
        }
      ]
    },
    {
      "cell_type": "code",
      "source": [
        "# 5. Conclusion\n",
        "if decision == \"Reject the null hypothesis\":\n",
        "    conclusion = \"There is strong evidence to support the restaurant owners' claim that weekly operating costs are higher than the model suggests.\"\n",
        "else:\n",
        "    conclusion = \"There is not enough evidence to support the restaurant owners' claim.\"\n",
        "\n",
        "print(\"Conclusion:\", conclusion)"
      ],
      "metadata": {
        "colab": {
          "base_uri": "https://localhost:8080/"
        },
        "id": "OOe6MnvIt2c9",
        "outputId": "a1bdabe6-2c24-4deb-c301-c4325a045c60"
      },
      "execution_count": 10,
      "outputs": [
        {
          "output_type": "stream",
          "name": "stdout",
          "text": [
            "Conclusion: There is not enough evidence to support the restaurant owners' claim.\n"
          ]
        }
      ]
    },
    {
      "cell_type": "code",
      "source": [],
      "metadata": {
        "id": "8NZs7TnVuCje"
      },
      "execution_count": null,
      "outputs": []
    },
    {
      "cell_type": "markdown",
      "source": [
        "Conclusion: Based on the decision, state whether there's strong evidence to support the restaurant owners' claim.\n"
      ],
      "metadata": {
        "id": "4Jg_4RFquHyk"
      }
    },
    {
      "cell_type": "code",
      "source": [],
      "metadata": {
        "id": "gJnB7lfGuJbd"
      },
      "execution_count": null,
      "outputs": []
    }
  ]
}